{
  "cells": [
    {
      "cell_type": "markdown",
      "metadata": {
        "id": "KB8dTw447SXC"
      },
      "source": [
        "# Commercial Banks - Data Extraction Template\n",
        "\n",
        "This notebook computes the main ratios and performance indicators for commercial banks in Mexico, and outputs a `csv` file for easy manipulation of the data in Excel.\n"
      ]
    },
    {
      "cell_type": "markdown",
      "metadata": {
        "id": "NG793kVURQC1"
      },
      "source": [
        "## Basic imports\n",
        "\n",
        "We'll load the basic libraries and pre-defined functions that will help us easily query TUKAN's API."
      ]
    },
    {
      "cell_type": "code",
      "execution_count": 1,
      "metadata": {
        "id": "40Do-AqusVf9"
      },
      "outputs": [],
      "source": [
        "import sys\n",
        "import os\n",
        "import pandas as pd\n",
        "import numpy as np\n",
        "import time\n",
        "import requests\n",
        "from datetime import datetime\n",
        "from dateutil.relativedelta import relativedelta\n",
        "\n",
        "\n",
        "# We load pre-defined functions\n",
        "module_path = os.path.abspath(os.path.join('../../'))\n",
        "if module_path not in sys.path:\n",
        "    sys.path.append(module_path+\"\\\\utils\")\n",
        "    sys.path.append(module_path+\"\\\\assets\")\n",
        "\n",
        "from tukan_helper_functions import *"
      ]
    },
    {
      "cell_type": "markdown",
      "metadata": {
        "id": "m9zYx2Xq0tKD"
      },
      "source": [
        "## Getting the data\n",
        "\n",
        "The `get_banks_data` function will help us get the data we need in order to get a complete overview of the Mexican commercial banking system."
      ]
    },
    {
      "cell_type": "code",
      "execution_count": 2,
      "metadata": {
        "id": "4jMSzdU8MI3S"
      },
      "outputs": [],
      "source": [
        "def get_banks_data(payload, system_data=False, slice_data=True, change_headers=False):\n",
        "#system info\n",
        "  if system_data:\n",
        "    payload.update({\"from\":\"2015-01-10\",\"categories\": {\"institutions\": [\"0c959ae6bc0d063\"]}})\n",
        "    response_data = get_tukan_api_request(payload)\n",
        "    data = response_data[\"data\"]\n",
        "    variables = response_data[\"variables\"]\n",
        "  else:\n",
        "    if slice_data:\n",
        "    #most recent data\n",
        "      response_data = get_tukan_api_request(payload)\n",
        "      data = response_data[\"data\"]\n",
        "      variables = response_data[\"variables\"]\n",
        "      date_recent = data[\"date\"].iloc[0]\n",
        "    #last year (same month) data\n",
        "      date_last_year = datetime(date_recent.year, date_recent.month, date_recent.day) - relativedelta(years=1)\n",
        "      payload.update({\"from\":date_last_year.strftime(\"%Y-%m-%d\"),\"to\":date_last_year.strftime(\"%Y-%m-%d\")})\n",
        "      response_data = get_tukan_api_request(payload)\n",
        "      data_aux = response_data[\"data\"]\n",
        "      data = data.append(data_aux)\n",
        "    #last month data\n",
        "      date_last_month = datetime(date_recent.year, date_recent.month, date_recent.day) - relativedelta(months=1)\n",
        "      payload.update({\"from\":date_last_month.strftime(\"%Y-%m-%d\"),\"to\":date_last_month.strftime(\"%Y-%m-%d\")})\n",
        "      response_data = get_tukan_api_request(payload)\n",
        "      data_aux = response_data[\"data\"]\n",
        "      data = data.append(data_aux)\n",
        "    else:\n",
        "      payload.update({\"from\":\"2015-01-10\"})\n",
        "      response_data = get_tukan_api_request(payload)\n",
        "      data_aux = response_data[\"data\"]\n",
        "      data=data_aux\n",
        "\n",
        "#changing headers\n",
        "  if change_headers:\n",
        "    variable_dic = pd.DataFrame(variables)\n",
        "    variable_dic = variable_dic[[\"ref\", \"display_name\"]]\n",
        "    variable_dic = variable_dic.set_index('ref').to_dict()\n",
        "    data.rename(columns = variable_dic[\"display_name\"], inplace = True)\n",
        "  return data\n"
      ]
    },
    {
      "cell_type": "markdown",
      "metadata": {},
      "source": [
        "The `compute_financial_ratios` function helps us compute the main financial ratios and metrics we will need for our analysis. These include:\n",
        "\n",
        "*   $\\text{ROA}$: return on assets. The sum of LTM profit loss divided by average total assets. \n",
        "*   $\\text{ROE}$: return on equity. The sum of LTM profit loss divided by average equity.\n",
        "*   $\\text{Coverage ratio}$: loan loss provisions (from balance sheet) divided by the non-performing loan portfolio.\n",
        "*   $\\text{Cost of risk}$: the sum of LTM loan loss expenses divided by the average loan portfolio.\n",
        "*   $\\text{NPL ratio}$: non-performing loan portfolio divided by the total loan portfolio.  \n",
        "*   $\\text{Net interest margin}$: the difference of interest income and interest expenses (LTM) divided by productive assets. Where:\n",
        "\n",
        "$$\\small{\\text{Productive assets} = \\text{Performing loans} + \\text{Cash and cash equivalents} + \\text{Financial instruments} + \\text{Investments in securities}}$$"
      ]
    },
    {
      "cell_type": "code",
      "execution_count": 3,
      "metadata": {
        "id": "M_anNKWKBUWs"
      },
      "outputs": [],
      "source": [
        "def compute_financial_ratios(df):\n",
        "  '''\n",
        "  df: the data frame to which we will perform the computations.\n",
        "  '''\n",
        "\n",
        "  aux_df = df.copy()\n",
        "  aux_df.sort_values(by = ['institutions__ref', 'date'], inplace = True)\n",
        "  aux_df = aux_df.reset_index(drop = True).copy()\n",
        "\n",
        "  # LTM Profit (loss)\n",
        "  aux_df.loc[:,'ltm_profit'] = (\n",
        "      aux_df.groupby(['institutions__ref'])\n",
        "      .rolling(on=\"date\", window=12, min_periods=12)['41ed2726f53af05']\n",
        "      .sum()\n",
        "      .reset_index(drop = True)\n",
        "    )\n",
        "  \n",
        "  # Average assets\n",
        "  aux_df.loc[:,'ltm_assets'] = (\n",
        "      aux_df.groupby(['institutions__ref'])\n",
        "      .rolling(on='date', window=12, min_periods=12)['5fab7445bdba98d']\n",
        "      .mean()\n",
        "      .reset_index(drop = True)\n",
        "    )\n",
        "  \n",
        "  # Average equity\n",
        "  aux_df.loc[:,'ltm_equity'] = (\n",
        "      aux_df.groupby(['institutions__ref'])\n",
        "      .rolling(on='date', window=12, min_periods=12)['aaabada5fb35b5e']\n",
        "      .mean()\n",
        "      .reset_index(drop = True)\n",
        "    )\n",
        "  \n",
        "  # Total loan portfolio\n",
        "  aux_df.loc[:,'total_loans'] = (aux_df.loc[:,'b4ea69bfe2b9735'] + aux_df.loc[:,'aa9a4f2f8a95db3'])\n",
        "  \n",
        "  # Productive assets\n",
        "  aux_df.loc[:,'prod_assets'] = (\n",
        "      aux_df.loc[:,'e45fb5b929acd55'] +\n",
        "      aux_df.loc[:,'3b64c196a705595'] +\n",
        "      aux_df.loc[:,'16b0c56b0671f04'] + \n",
        "      aux_df.loc[:,'aa9a4f2f8a95db3']\n",
        "    )\n",
        "  \n",
        "  # Captación tradicional\n",
        "  aux_df.loc[:,'capt_trad'] = (\n",
        "      aux_df.loc[:,'f26c53c213511d1'] +\n",
        "      aux_df.loc[:,'893fe1f7da06f33']\n",
        "    )\n",
        "  \n",
        "  # Quitas y castigos\n",
        "  aux_df.loc[:,'ltm_write_offs'] = (\n",
        "      aux_df.groupby(['institutions__ref'])\n",
        "      .rolling(on=\"date\", window=12, min_periods=12)['8a7ec243c69f691']\n",
        "      .sum()\n",
        "      .reset_index(drop = True)\n",
        "    )\n",
        "  \n",
        "  # Average productive assets\n",
        "  aux_df.loc[:,'ltm_prod_assets'] = (\n",
        "      aux_df.groupby(['institutions__ref'])\n",
        "      .rolling(on='date', window=12, min_periods=12)['prod_assets']\n",
        "      .mean()\n",
        "      .reset_index(drop = True)\n",
        "    )\n",
        "\n",
        "  # Average total loans\n",
        "  aux_df.loc[:,'ltm_total_loans'] = (\n",
        "      aux_df.groupby(['institutions__ref'])\n",
        "      .rolling(on='date', window=12, min_periods=12)['total_loans']\n",
        "      .mean()\n",
        "      .reset_index(drop = True)\n",
        "    )\n",
        "\n",
        "  # LTM (Net interest income)\n",
        "  aux_df.loc[:,'ltm_nii'] = (\n",
        "      aux_df.groupby(['institutions__ref'])\n",
        "      .rolling(on='date', window=12, min_periods=12)['b20c1d56c3cbe96']\n",
        "      .sum()\n",
        "      .reset_index(drop = True)\n",
        "    ) - (\n",
        "      aux_df.groupby(['institutions__ref'])\n",
        "      .rolling(on='date', window=12, min_periods=12)['144b301e50c7a67']\n",
        "      .sum()\n",
        "      .reset_index(drop = True)\n",
        "    ) \n",
        "\n",
        "  # LTM Loan Loss Expenses\n",
        "  aux_df.loc[:,'ltm_lle'] = (\n",
        "      aux_df.groupby(['institutions__ref'])\n",
        "      .rolling(on=\"date\", window=12, min_periods=12)['4383de47775b541']\n",
        "      .sum()\n",
        "      .reset_index(drop = True)\n",
        "    )\n",
        "  # LTM Loan Loss Expenses\n",
        "  aux_df.loc[:,'ltm_lle'] = (\n",
        "      aux_df.groupby(['institutions__ref'])\n",
        "      .rolling(on=\"date\", window=12, min_periods=12)['4383de47775b541']\n",
        "      .sum()\n",
        "      .reset_index(drop = True)\n",
        "  )\n",
        "  # Net commissions\n",
        "  aux_df.loc[:,'net_com'] = aux_df.loc[:,'9acb0d8ce48d518'] - aux_df.loc[:,'ed1d12a468dbd66']\n",
        "  #-----------------------------------------------------------------------------\n",
        "  # Compute the financial ratios\n",
        "  #-----------------------------------------------------------------------------\n",
        "  \n",
        "  aux_df.loc[:,'roa'] = aux_df.loc[:,'ltm_profit'] / aux_df.loc[:,'ltm_assets']\n",
        "  aux_df.loc[:,'roe'] = aux_df.loc[:,'ltm_profit'] / aux_df.loc[:,'ltm_equity']\n",
        "  aux_df.loc[:,'cov_ratio'] = -1*(aux_df.loc[:,'d475a2e760d8026'] / aux_df.loc[:,'b4ea69bfe2b9735'])\n",
        "  aux_df.loc[:,'npl'] = aux_df.loc[:,'b4ea69bfe2b9735'] / aux_df.loc[:,'total_loans']\n",
        "  aux_df.loc[:,'nim'] = aux_df.loc[:,'ltm_nii'] / aux_df.loc[:,'ltm_prod_assets']\n",
        "  aux_df.loc[:,'cost_risk'] = aux_df.loc[:,'ltm_lle'] / aux_df.loc[:,'ltm_total_loans']\n",
        "  aux_df.loc[:,'tda'] =   (aux_df.loc[:,'b4ea69bfe2b9735'] + aux_df.loc[:,'ltm_write_offs']) / (aux_df.loc[:,'total_loans'] + aux_df.loc[:,'ltm_write_offs'])\n",
        "  aux_df.loc[:,'eficiencia'] = aux_df.loc[:,'e6aa7b4c9299e8f'] / (aux_df.loc[:,'b20c1d56c3cbe96'] - aux_df.loc[:,'144b301e50c7a67'] +  aux_df.loc[:,'net_com']+  aux_df.loc[:,'beb5cfec9761423'] + aux_df.loc[:,'b8f24dd9230d269']) \n",
        "  aux_df.loc[:,'icor'] = aux_df.loc[:,'d475a2e760d8026'] / aux_df.loc[:,'b4ea69bfe2b9735']\n",
        "\n",
        "  #npl_gov - NPL Government Loan Portoflio\n",
        "  aux_df.loc[:,'npl_gov'] = aux_df.loc[:,'5a454d2ce3208f6'] / (aux_df.loc[:,'1f445d824be3409'] +  aux_df.loc[:,'5a454d2ce3208f6']) \n",
        "\n",
        "  #npl_commercial - NPL Corporate Loan Portoflio\n",
        "  aux_df.loc[:,'npl_commercial'] = aux_df.loc[:,'d30540164451755'] / (aux_df.loc[:,'d30540164451755'] +  aux_df.loc[:,'fe3b7ecbebca755']) \n",
        "\n",
        "  #npl_mortages - NPL Mortgage Loan Portoflio\n",
        "  aux_df.loc[:,'npl_mortages'] = aux_df.loc[:,'a96afb11c29d06f'] / (aux_df.loc[:,'4173bc0829231f9'] +  aux_df.loc[:,'a96afb11c29d06f']) \n",
        "\n",
        "  #npl_consum - NPL Consumer Loan Portoflio\n",
        "  aux_df.loc[:,'npl_consum'] = aux_df.loc[:,'e92557c7fb5563c'] / (aux_df.loc[:,'79e1d987d9e13b1'] +  aux_df.loc[:,'e92557c7fb5563c']) \n",
        "\n",
        "  #npl_finent - NPL Financial Entities Loan Portoflio\n",
        "  aux_df.loc[:,'npl_finent'] = aux_df.loc[:,'8a8891292a2219c'] / (aux_df.loc[:,'a4526a18f4faf4a'] +  aux_df.loc[:,'8a8891292a2219c']) \n",
        "\n",
        "  #We drop all of the columns that are in the original DF but not on the new DF\n",
        "  columns_set = set(aux_df.columns)\n",
        "  columns_keep = columns_set.difference(set(df.columns))\n",
        "  \n",
        "  aux_df = aux_df[['date', 'institutions', 'institutions__ref'] + \n",
        "                  list(columns_keep)].copy()\n",
        "\n",
        "  return aux_df"
      ]
    },
    {
      "cell_type": "markdown",
      "metadata": {},
      "source": [
        "## Bank groups\n",
        "\n",
        "Commercial banks in Mexico are usually looked at through the following groups. In this section we define a `dictionary` that will help us aggregate statistics based on this classification."
      ]
    },
    {
      "cell_type": "code",
      "execution_count": 4,
      "metadata": {},
      "outputs": [],
      "source": [
        "bank_groups = {'ABC Capital': 'CONSUMO',\n",
        "  'Accendo Banco': 'COMERCIALES',\n",
        "  'American Express Bank México': 'OTROS',\n",
        "  'BBVA Bancomer': 'G7',\n",
        "  'BNP Paribas México': 'OTROS',\n",
        "  'BanCoppel': 'TIENDAS',\n",
        "  'Banamex': 'G7',\n",
        "  'Banca Afirme': 'COMERCIALES',\n",
        "  'Banca Mifel': 'COMERCIALES',\n",
        "  'Banco Actinver': 'PRIVADA',\n",
        "  'Banco Autofin México': 'CONSUMO',\n",
        "  'Banco Azteca': 'TIENDAS',\n",
        "  'Banco Bancrea': 'COMERCIALES',\n",
        "  'Banco Base': 'PRIVADA',\n",
        "  'Banco Compartamos': 'CONSUMO',\n",
        "  'Banco Credit Suisse México': 'OTROS',\n",
        "  'Banco Finterra': 'COMERCIALES',\n",
        "  'Banco Forjadores': 'CONSUMO',\n",
        "  'Banco Inbursa': 'G7',\n",
        "  'Banco Inmobiliario Mexicano': 'CONSUMO',\n",
        "  'Banco Invex': 'PRIVADA',\n",
        "  'Banco Monex': 'PRIVADA',\n",
        "  'Banco Multiva': 'COMERCIALES',\n",
        "  'Banco PagaTodo': 'CONSUMO',\n",
        "  'Banco S3 Caceis México': 'OTROS',\n",
        "  'Banco de Inversión Afirme': 'OTROS',\n",
        "  'Banco del Bajío': 'COMERCIALES',\n",
        "  'Bank of America México': 'OTROS',\n",
        "  'Bank of China México': 'OTROS',\n",
        "  'Bankaool': 'OTROS',\n",
        "  'Banorte': 'G7',\n",
        "  'Bansi': 'COMERCIALES',\n",
        "  'Barclays Bank México': 'OTROS',\n",
        "  'Cibanco': 'PRIVADA',\n",
        "  'Consubanco': 'TIENDAS',\n",
        "  'Deutsche Bank México': 'OTROS',\n",
        "  'Fundación Dondé Banco': 'CONSUMO',\n",
        "  'HSBC México': 'G7',\n",
        "  'Industrial and Commercial Bank of China México': 'OTROS',\n",
        "  'Intercam Banco': 'PRIVADA',\n",
        "  'J.P. Morgan México': 'OTROS',\n",
        "  'KEB Hana México': 'OTROS',\n",
        "  'MUFG Bank México': 'OTROS',\n",
        "  'Mizuho Bank México': 'OTROS',\n",
        "  'Regional': 'COMERCIALES',\n",
        "  'Sabadell': 'COMERCIALES',\n",
        "  'Santander México': 'G7',\n",
        "  'Scotiabank Inverlat': 'G7',\n",
        "  'Shinhan de México': 'OTROS',\n",
        "  'Ve Por Más': 'COMERCIALES',\n",
        "  'Volkswagen Bank': 'CONSUMO',\n",
        "  'Banco Ahorro Famsa': 'OTROS', \n",
        "  'Banco Interacciones': 'OTROS',\n",
        "  'Banco Wal-Mart de México Adelante':'OTROS'}"
      ]
    },
    {
      "cell_type": "markdown",
      "metadata": {
        "id": "ToyiXypOPWFm"
      },
      "source": [
        "## Balance Sheet data\n",
        "\n",
        "In this section we structure the `payload` to query balance sheet items related to our analysis."
      ]
    },
    {
      "cell_type": "code",
      "execution_count": 5,
      "metadata": {
        "id": "wEFxFLvlSyPb"
      },
      "outputs": [],
      "source": [
        "payload = {\n",
        "    \"type\": \"data_table\",\n",
        "    \"operation\": \"sum\",\n",
        "    \"language\": \"es\",\n",
        "    \"categories\": {\n",
        "        \"institutions\": \"all\"\n",
        "    },\n",
        "    \"request\": [\n",
        "        {\n",
        "            \"table\": \"mex_cnbv_cb_balance_sheet\",\n",
        "            \"variables\": [\n",
        "                \"5fab7445bdba98d\",\n",
        "                \"3b64c196a705595\",\n",
        "                \"16b0c56b0671f04\",\n",
        "                \"e45fb5b929acd55\",\n",
        "                \"aa9a4f2f8a95db3\",\n",
        "                \"a4526a18f4faf4a\",\n",
        "                \"1f445d824be3409\",\n",
        "                \"79e1d987d9e13b1\",\n",
        "                \"4173bc0829231f9\",\n",
        "                \"b4ea69bfe2b9735\",\n",
        "                \"8a8891292a2219c\",\n",
        "                \"5a454d2ce3208f6\",\n",
        "                \"e92557c7fb5563c\",\n",
        "                \"a96afb11c29d06f\",\n",
        "                \"3f1b1935ca21bbd\",\n",
        "                \"f26c53c213511d1\",\n",
        "                \"893fe1f7da06f33\",\n",
        "                \"d475a2e760d8026\",               \n",
        "                \"aaabada5fb35b5e\",\n",
        "                \"fe3b7ecbebca755\",\n",
        "                \"d30540164451755\"\n",
        "            ]\n",
        "        }\n",
        "    ]\n",
        "}\n",
        "\n",
        "payload_banks_hist = payload.copy()\n",
        "\n",
        "payload_system = payload.copy()"
      ]
    },
    {
      "cell_type": "markdown",
      "metadata": {
        "id": "3g2h8UFAb5LU"
      },
      "source": [
        "And now we query historical data for the whole system, and only recent information for all commercial banks."
      ]
    },
    {
      "cell_type": "code",
      "execution_count": 6,
      "metadata": {
        "colab": {
          "base_uri": "https://localhost:8080/"
        },
        "id": "tf187PoC1qTn",
        "outputId": "f0e153a2-c85e-4d92-98f0-b6cb84dfa3a3"
      },
      "outputs": [
        {
          "name": "stdout",
          "output_type": "stream",
          "text": [
            "Success getting the data\n"
          ]
        }
      ],
      "source": [
        "genbal_banks_hist = get_banks_data(payload_banks_hist, system_data=False, slice_data=False, change_headers=False)"
      ]
    },
    {
      "cell_type": "code",
      "execution_count": 7,
      "metadata": {
        "colab": {
          "base_uri": "https://localhost:8080/"
        },
        "id": "b5zZlwR6pFtS",
        "outputId": "6085e185-e25d-43c9-a086-0b66ba4a8522"
      },
      "outputs": [],
      "source": [
        "# genbal_system = get_banks_data(payload_banks_hist, system_data=True, slice_data=False, change_headers=False)"
      ]
    },
    {
      "cell_type": "markdown",
      "metadata": {
        "id": "t-7Q2OROiv6W"
      },
      "source": [
        "## Income Statement data\n",
        "\n",
        "In this section we structure the `payload` to query income statement items related to our analysis."
      ]
    },
    {
      "cell_type": "code",
      "execution_count": 8,
      "metadata": {
        "id": "5wsyXrZt2D5o"
      },
      "outputs": [],
      "source": [
        "payload = {\n",
        "    \"type\": \"data_table\",\n",
        "    \"operation\": \"sum\",\n",
        "    \"language\": \"es\",\n",
        "    \"categories\": {\n",
        "        \"institutions\": \"all\"\n",
        "    },\n",
        "    \"request\": [\n",
        "        {\n",
        "            \"table\": \"mex_cnbv_cb_income_statement\",\n",
        "            \"variables\": [\n",
        "                \"b20c1d56c3cbe96\",\n",
        "                \"144b301e50c7a67\",\n",
        "                \"4383de47775b541\",\n",
        "                \"c527586c5f852ce\",\n",
        "                \"9acb0d8ce48d518\",\n",
        "                \"ed1d12a468dbd66\",\n",
        "                \"b8f24dd9230d269\",\n",
        "                \"e6aa7b4c9299e8f\",\n",
        "                \"41ed2726f53af05\",\n",
        "                \"beb5cfec9761423\",\n",
        "                \"8a7ec243c69f691\"\n",
        "            ]\n",
        "        }\n",
        "    ]\n",
        "}\n",
        "payload_banks_hist = payload.copy()\n",
        "\n",
        "payload_system = payload.copy()"
      ]
    },
    {
      "cell_type": "markdown",
      "metadata": {
        "id": "WXUxLYxi2BbW"
      },
      "source": [
        "And now we query historical data for the whole system, and only recent information for all commercial banks."
      ]
    },
    {
      "cell_type": "code",
      "execution_count": 9,
      "metadata": {
        "colab": {
          "base_uri": "https://localhost:8080/"
        },
        "id": "qte3G31Bf9Ek",
        "outputId": "bc7a5a32-80f9-48b7-f675-f6808cf80671"
      },
      "outputs": [
        {
          "name": "stdout",
          "output_type": "stream",
          "text": [
            "Success getting the data\n"
          ]
        }
      ],
      "source": [
        "incsta_banks_hist = get_banks_data(payload_banks_hist, system_data=False, slice_data=False, change_headers=False)"
      ]
    },
    {
      "cell_type": "code",
      "execution_count": 41,
      "metadata": {
        "colab": {
          "base_uri": "https://localhost:8080/"
        },
        "id": "zj5gj-RtpXA1",
        "outputId": "34254e38-249b-4ebb-9623-c6c54e9f1762"
      },
      "outputs": [
        {
          "name": "stdout",
          "output_type": "stream",
          "text": [
            "Success getting the data\n"
          ]
        }
      ],
      "source": [
        "# incsta_system = get_banks_data(payload_banks_hist, system_data=True, slice_data=False, change_headers=False)"
      ]
    },
    {
      "cell_type": "markdown",
      "metadata": {
        "id": "xwAU1SvjqJ9Y"
      },
      "source": [
        "## CET1 Ratio\n",
        "\n",
        "In this section we are interested in querying capital adequacy ratios. Mainly, the CET1 ratio."
      ]
    },
    {
      "cell_type": "code",
      "execution_count": 10,
      "metadata": {
        "id": "jA-yJXBc4JQU"
      },
      "outputs": [],
      "source": [
        "payload = {\n",
        "    \"type\": \"data_table\",\n",
        "    \"operation\": \"sum\",\n",
        "    \"language\": \"es\",\n",
        "    \"group_by\": [\n",
        "        \"institutions\"\n",
        "    ],\n",
        "    \"categories\": {\n",
        "        \"institutions\": \"all\"\n",
        "    },\n",
        "    \"request\": [\n",
        "        {\n",
        "            \"table\": \"mex_cnbv_cb_capital_ratios\",\n",
        "            \"variables\": [\n",
        "                \"2440b46b217f949\"\n",
        "            ]\n",
        "        }\n",
        "    ]\n",
        "}\n",
        "payload_banks = payload.copy()\n",
        "payload_system = payload.copy()"
      ]
    },
    {
      "cell_type": "code",
      "execution_count": 11,
      "metadata": {
        "colab": {
          "base_uri": "https://localhost:8080/"
        },
        "id": "U7_AvIqJ4JQU",
        "outputId": "2a962e2b-e9ac-4729-c5e4-d930867da38c"
      },
      "outputs": [
        {
          "name": "stdout",
          "output_type": "stream",
          "text": [
            "Success getting the data\n",
            "Success getting the data\n",
            "Success getting the data\n"
          ]
        }
      ],
      "source": [
        "icap_banks =  get_banks_data(payload_banks, system_data=False, change_headers=False)"
      ]
    },
    {
      "cell_type": "code",
      "execution_count": 12,
      "metadata": {
        "colab": {
          "base_uri": "https://localhost:8080/"
        },
        "id": "oHYdVAmBpiVm",
        "outputId": "ada8858e-f217-4a4d-8232-e7fa68f6e780"
      },
      "outputs": [
        {
          "name": "stdout",
          "output_type": "stream",
          "text": [
            "Success getting the data\n"
          ]
        }
      ],
      "source": [
        "icap_system = get_banks_data(payload_system, system_data=True, change_headers=False)"
      ]
    },
    {
      "cell_type": "markdown",
      "metadata": {
        "id": "E1YN_LDWqNT-"
      },
      "source": [
        "## Operational data\n",
        "\n",
        "In this section we query data related to operational statistics, such as: employees, ATMs, etc."
      ]
    },
    {
      "cell_type": "code",
      "execution_count": 54,
      "metadata": {
        "id": "d7MSWI5zvyDf"
      },
      "outputs": [],
      "source": [
        "payload = {\n",
        "    \"type\": \"data_table\",\n",
        "    \"operation\": \"sum\",\n",
        "    \"language\": \"es\",\n",
        "    \"group_by\": [\n",
        "        \"geography\",\n",
        "        \"institutions\"\n",
        "    ],\n",
        "    \"categories\": {\n",
        "        \"geography\": [\n",
        "            \"b815762a2c6a283\"\n",
        "        ],\n",
        "        \"institutions\": \"all\"\n",
        "    },\n",
        "    \"request\": [\n",
        "        {\n",
        "            \"table\": \"mex_cnbv_cb_operational\",\n",
        "            \"variables\": [\n",
        "                \"ad1841c2825df92\",\n",
        "                \"c3f78436c051fcd\",\n",
        "                \"2eee037c67fbe81\",\n",
        "                \"6ce544361c47af9\",\n",
        "                \"21879990c9338ac\"\n",
        "            ]\n",
        "        }\n",
        "    ]\n",
        "}"
      ]
    },
    {
      "cell_type": "code",
      "execution_count": 55,
      "metadata": {
        "colab": {
          "base_uri": "https://localhost:8080/"
        },
        "id": "1Ti9sbMf5HeB",
        "outputId": "f3c4f480-467c-4912-c1bd-434e766d10cc"
      },
      "outputs": [
        {
          "name": "stdout",
          "output_type": "stream",
          "text": [
            "Success getting the data\n",
            "Success getting the data\n",
            "Success getting the data\n"
          ]
        }
      ],
      "source": [
        "ops_banks =  get_banks_data(payload, system_data=False, change_headers=False)\n",
        "ops_banks.drop(columns=['geography__ref', 'geography'],inplace=True)\n",
        "ops_banks.fillna(0, inplace = True)\n",
        "ops_banks.loc[:,'employees'] = ops_banks.loc[:,'c3f78436c051fcd'] + (ops_banks.loc[:,'21879990c9338ac'])"
      ]
    },
    {
      "cell_type": "markdown",
      "metadata": {},
      "source": [
        "Now we compute the aggregate for the whole system."
      ]
    },
    {
      "cell_type": "code",
      "execution_count": 56,
      "metadata": {
        "colab": {
          "base_uri": "https://localhost:8080/"
        },
        "id": "8i9HFGDm5RYM",
        "outputId": "0e0e10d6-ede5-4a4b-8384-09133f00eb31"
      },
      "outputs": [],
      "source": [
        "# First we get the data by groups\n",
        "\n",
        "ops_banks_groups = ops_banks.copy()\n",
        "ops_banks_groups.replace({\"institutions\":bank_groups}, inplace = True)\n",
        "ops_banks_groups.loc[:,\"institutions__ref\"] = ops_banks_groups[\"institutions\"]\n",
        "ops_banks_groups = ops_banks_groups.groupby([\"institutions\", \"institutions__ref\", \"date\"]).sum().reset_index()\n",
        "\n",
        "# Then we get the data for the whole system\n",
        "ops_banks_system = ops_banks.groupby([\"date\"]).sum().reset_index()\n",
        "ops_banks_system.loc[:,\"institutions\"] = \"Instituciones de banca múltiple\"\n",
        "ops_banks_system.loc[:,\"institutions__ref\"] = \"0c959ae6bc0d063\"\n",
        "\n",
        "# And we append with the original dataset.\n",
        "ops_banks_cons = ops_banks.append(ops_banks_system)\n",
        "ops_banks_cons = ops_banks_cons.append(ops_banks_groups)\n",
        "ops_banks_cons.drop_duplicates(inplace = True)\n"
      ]
    },
    {
      "cell_type": "markdown",
      "metadata": {
        "id": "xpOx_ljgmvxa"
      },
      "source": [
        "## Compute ratios and generate file\n",
        "\n",
        "First, we merge the data and group statistics by the banking groups defined above. Then we compute the data for the whole system."
      ]
    },
    {
      "cell_type": "code",
      "execution_count": 74,
      "metadata": {
        "colab": {
          "base_uri": "https://localhost:8080/",
          "height": 400
        },
        "id": "oTjeyoA3p131",
        "outputId": "f6068aa0-6e26-437e-a8fa-a63874bb5531"
      },
      "outputs": [],
      "source": [
        "hist_data = genbal_banks_hist.merge(incsta_banks_hist, how='left',on=['date', 'institutions__ref', 'institutions'])\n",
        "bank_data = hist_data.copy()\n",
        "bank_data = bank_data[bank_data[\"institutions__ref\"] != \"0c959ae6bc0d063\"]\n",
        "bank_data.replace({\"institutions\": bank_groups}, inplace = True)\n",
        "bank_data.loc[:,\"institutions__ref\"] = bank_data[\"institutions\"]\n",
        "bank_data = bank_data.groupby([\"institutions\", \"institutions__ref\", \"date\"]).sum().reset_index()\n",
        "\n",
        "system = hist_data[hist_data[\"institutions__ref\"] == \"0c959ae6bc0d063\"].copy()\n",
        "system.drop_duplicates(inplace = True)\n",
        "system_financial_ratios = compute_financial_ratios(system)"
      ]
    },
    {
      "cell_type": "markdown",
      "metadata": {},
      "source": [
        "Now, we compute the financial ratios for individual banks and bank groups."
      ]
    },
    {
      "cell_type": "code",
      "execution_count": 75,
      "metadata": {
        "colab": {
          "base_uri": "https://localhost:8080/",
          "height": 617
        },
        "id": "8wNg2w34OTw1",
        "outputId": "b80f4d34-64eb-465b-e8a8-6d478739cd6b"
      },
      "outputs": [],
      "source": [
        "banks_hist = genbal_banks_hist.merge(incsta_banks_hist, how='left',on=['date', 'institutions__ref', 'institutions'])\n",
        "\n",
        "banks_hist = banks_hist.append(bank_data)\n",
        "banks_hist.drop_duplicates(inplace = True)\n",
        "financial_ratios = compute_financial_ratios(banks_hist)"
      ]
    },
    {
      "cell_type": "markdown",
      "metadata": {
        "id": "H1LVcx9Jg92k"
      },
      "source": [
        "Finally, we merge all the calculations we've made into a single dataframe."
      ]
    },
    {
      "cell_type": "code",
      "execution_count": 76,
      "metadata": {
        "id": "eJLKfRbEPVJ-"
      },
      "outputs": [],
      "source": [
        "#BANKS\n",
        "# merging dfs\n",
        "banks_hist_data = pd.merge(financial_ratios, banks_hist, how = \"left\", on = ['date', 'institutions__ref', 'institutions'])\n",
        "banks_hist_data = pd.merge(banks_hist_data, icap_banks, how = \"left\", on = ['date', 'institutions__ref', 'institutions'])\n",
        "banks_hist_data = pd.merge(banks_hist_data, ops_banks_cons, how = \"left\", on = ['date', 'institutions__ref', 'institutions'])\n",
        "\n",
        "# # filtering to keep most recent data\n",
        "max_date = banks_hist_data[\"date\"].max()\n",
        "lag_1y_date = max_date - relativedelta(years = 1)\n",
        "lag_1m_date = max_date - relativedelta(months = 1)\n",
        "lag_2m_date = max_date - relativedelta(months = 2)\n",
        "lag_1y_date_1m = lag_1m_date - relativedelta(years = 1)\n",
        "lag_1y_date_2m = lag_2m_date - relativedelta(years = 1)\n",
        "\n",
        "# # final DF\n",
        "banks_final_data = banks_hist_data[banks_hist_data[\"date\"].isin([max_date, lag_1m_date, lag_1y_date, lag_2m_date, lag_1y_date_1m, lag_1y_date_2m])].reset_index(drop=True)"
      ]
    },
    {
      "cell_type": "code",
      "execution_count": 77,
      "metadata": {
        "id": "pRAF6tz_oxZm"
      },
      "outputs": [],
      "source": [
        "#SYSTEM\n",
        "# merging dfs\n",
        "system_data = pd.merge(system_financial_ratios, system, how = \"left\", on = ['date', 'institutions__ref', 'institutions'])\n",
        "system_data = pd.merge(system_data, icap_system, how = \"left\", on = ['date', 'institutions__ref', 'institutions'])"
      ]
    },
    {
      "cell_type": "markdown",
      "metadata": {
        "id": "FgVBJ_G1NaSv"
      },
      "source": [
        "Finally, we colect the \"human readable\" variable names so we can export the dataframe with intuitive column names."
      ]
    },
    {
      "cell_type": "code",
      "execution_count": 80,
      "metadata": {
        "id": "lmN28V9fkFBz"
      },
      "outputs": [],
      "source": [
        "table_dict = get_table_dictionary('mex_cnbv_cb_balance_sheet')\n",
        "table_dict = table_dict.append(get_table_dictionary('mex_cnbv_cb_income_statement'))\n",
        "table_dict = table_dict.append(get_table_dictionary('mex_cnbv_cb_capital_ratios'))\n",
        "table_dict = table_dict.append(get_table_dictionary('mex_cnbv_cb_operational'))\n",
        "variable_dic = table_dict[[\"ref\", \"display_name\"]]\n",
        "variable_dic = variable_dic.set_index('ref').to_dict()\n",
        "banks_final_data.rename(columns = variable_dic[\"display_name\"], inplace = True)\n",
        "system_data.rename(columns = variable_dic[\"display_name\"], inplace = True)"
      ]
    },
    {
      "cell_type": "markdown",
      "metadata": {
        "colab": {
          "base_uri": "https://localhost:8080/"
        },
        "id": "PL7EWKzWIgoA",
        "outputId": "9350a769-3035-4175-972d-fc5b5957c506"
      },
      "source": [
        "And finally we ensure that the columns are stored in the precise order we want them."
      ]
    },
    {
      "cell_type": "code",
      "execution_count": 81,
      "metadata": {
        "id": "oTYu1mwGObdz"
      },
      "outputs": [],
      "source": [
        "banks_final_data = banks_final_data[['date', 'institutions', 'institutions__ref', 'total_loans',\n",
        "       'npl_consum', 'roe', 'ltm_lle', 'npl_gov', 'eficiencia', 'tda', 'icor',\n",
        "       'nim', 'ltm_total_loans', 'ltm_assets', 'capt_trad', 'ltm_profit',\n",
        "       'ltm_prod_assets', 'roa', 'cost_risk', 'npl', 'net_com', 'ltm_equity',\n",
        "       'prod_assets', 'ltm_write_offs', 'npl_finent', 'npl_mortages',\n",
        "       'ltm_nii', 'cov_ratio', 'npl_commercial', 'Inversiones en valores',\n",
        "       'Cartera de crédito vigente a entidades gubernamentales',\n",
        "       'Efectivo y equivalentes de efectivo', 'Pasivos',\n",
        "       'Cartera de crédito hipotecaria vigente',\n",
        "       'Cartera de crédito vencida a entidades gubernamentales', 'Activos',\n",
        "       'Cartera de crédito de consumo vigente', 'Depósitos a plazo',\n",
        "       'Cartera de crédito vencida a entidades financieras',\n",
        "       'Cartera de crédito vigente a entidades financieras',\n",
        "       'Cartera de crédito hipotecaria vencida', 'Cartera de crédito vigente',\n",
        "       'Capital contable', 'Cartera de crédito vencida',\n",
        "       'Cartera de crédito empresarial vencida',\n",
        "       'Estimación preventiva para riesgos crediticios',\n",
        "       'Operaciones con valores y derivados (activo)',\n",
        "       'Cartera de crédito de consumo vencida',\n",
        "       'Depósitos de exigibilidad inmediata',\n",
        "       'Cartera de crédito empresarial vigente', 'Gastos por intereses',\n",
        "       'Utilidad (pérdida) neta',\n",
        "       'Reservas adicionales para riesgos crediticios', 'Quitas y castigos',\n",
        "       'Comisiones y tarifas cobradas', 'Ingresos por intereses',\n",
        "       'Resultado por intermediacion', 'Otros ingresos financieros',\n",
        "       'Margen financiero', 'Gastos de administración',\n",
        "       'Comisiones y tarifas pagadas', 'Índice de capitalización total (ICAP)',\n",
        "       'Empleados dependientes de la razón social', 'Sucursales',\n",
        "       'Transacciones en cajeros automáticos', 'Cajeros automáticos',\n",
        "       'Empleados suministrados por otra razón social', 'employees']]"
      ]
    },
    {
      "cell_type": "code",
      "execution_count": 82,
      "metadata": {},
      "outputs": [],
      "source": [
        "system_data = system_data[['date', 'institutions', 'institutions__ref', 'total_loans',\n",
        "       'npl_consum', 'roe', 'ltm_lle', 'npl_gov', 'eficiencia', 'tda', 'icor',\n",
        "       'nim', 'ltm_total_loans', 'ltm_assets', 'capt_trad', 'ltm_profit',\n",
        "       'ltm_prod_assets', 'roa', 'cost_risk', 'npl', 'net_com', 'ltm_equity',\n",
        "       'prod_assets', 'ltm_write_offs', 'npl_finent', 'npl_mortages',\n",
        "       'ltm_nii', 'cov_ratio', 'npl_commercial', 'Inversiones en valores',\n",
        "       'Cartera de crédito vigente a entidades gubernamentales',\n",
        "       'Efectivo y equivalentes de efectivo', 'Pasivos',\n",
        "       'Cartera de crédito hipotecaria vigente',\n",
        "       'Cartera de crédito vencida a entidades gubernamentales', 'Activos',\n",
        "       'Cartera de crédito de consumo vigente', 'Depósitos a plazo',\n",
        "       'Cartera de crédito vencida a entidades financieras',\n",
        "       'Cartera de crédito vigente a entidades financieras',\n",
        "       'Cartera de crédito hipotecaria vencida', 'Cartera de crédito vigente',\n",
        "       'Capital contable', 'Cartera de crédito vencida',\n",
        "       'Cartera de crédito empresarial vencida',\n",
        "       'Estimación preventiva para riesgos crediticios',\n",
        "       'Operaciones con valores y derivados (activo)',\n",
        "       'Cartera de crédito de consumo vencida',\n",
        "       'Depósitos de exigibilidad inmediata',\n",
        "       'Cartera de crédito empresarial vigente', 'Gastos por intereses',\n",
        "       'Utilidad (pérdida) neta',\n",
        "       'Reservas adicionales para riesgos crediticios', 'Quitas y castigos',\n",
        "       'Comisiones y tarifas cobradas', 'Ingresos por intereses',\n",
        "       'Resultado por intermediacion', 'Otros ingresos financieros',\n",
        "       'Margen financiero', 'Gastos de administración',\n",
        "       'Comisiones y tarifas pagadas',\n",
        "       'Índice de capitalización total (ICAP)']]"
      ]
    },
    {
      "cell_type": "markdown",
      "metadata": {
        "id": "NhHcxdzahxs-"
      },
      "source": [
        "And export the final data to a `csv` file."
      ]
    },
    {
      "cell_type": "code",
      "execution_count": 84,
      "metadata": {
        "id": "n1IzpoujhzYA"
      },
      "outputs": [],
      "source": [
        "#csv\n",
        "banks_final_data.to_csv('data_outputs/banks_final_data.csv', index=False, encoding = \"iso-8859-1\")\n",
        "system_data.to_csv('data_outputs/system_final_data.csv', index=False, encoding = \"iso-8859-1\")"
      ]
    }
  ],
  "metadata": {
    "colab": {
      "collapsed_sections": [
        "ospdyUwUBIF6"
      ],
      "name": "v3_Whitepaper_data_extraction",
      "provenance": [],
      "toc_visible": true
    },
    "kernelspec": {
      "display_name": "Python 3",
      "name": "python3"
    },
    "language_info": {
      "codemirror_mode": {
        "name": "ipython",
        "version": 3
      },
      "file_extension": ".py",
      "mimetype": "text/x-python",
      "name": "python",
      "nbconvert_exporter": "python",
      "pygments_lexer": "ipython3",
      "version": "3.7.2"
    }
  },
  "nbformat": 4,
  "nbformat_minor": 0
}
