{
 "cells": [
  {
   "cell_type": "markdown",
   "metadata": {},
   "source": [
    "# Tutorial Overview\n",
    "\n",
    "The tutorial is broken into several sections and use-cases, which are each presented in their own notebook.\n",
    "\n",
    "## What is TUKAN?\n",
    "\n",
    "TUKAN is an API and web-platform that helps analysts and companies automate their workflows and enrich their models with standardized public data. It is good for:\n",
    "\n",
    "* Automating reports that rely on public-datasets.\n",
    "* Enrich decision making with external data.\n",
    "* Augment machine-learning models with external sources.\n",
    "* Joining datasets across multiple sources with ease. \n",
    "\n",
    "And most importantly:\n",
    "\n",
    "<p style=\"font-size:30px\">No data-cleaning required!</p>\n",
    "\n",
    "## What do I need to work with TUKAN's API?\n",
    "\n",
    "Just a couple of libraries. In general, TUKAN's API only requires `requests`, `json` and `pandas` for its usage.\n",
    "\n",
    "We'll also import `matplotlib` to showcase some of the insights derived from the examples provided."
   ]
  },
  {
   "cell_type": "code",
   "execution_count": 3,
   "metadata": {},
   "outputs": [],
   "source": [
    "import requests \n",
    "import pandas as pd\n",
    "import json\n",
    "import matplotlib.pyplot as plt\n",
    "import matplotlib.font_manager as fm\n",
    "import matplotlib.ticker as mtick\n",
    "import matplotlib.dates as mdates\n",
    "from matplotlib import cm"
   ]
  },
  {
   "cell_type": "markdown",
   "metadata": {},
   "source": [
    "Regarding authentication, all POST requests to our API require the following header."
   ]
  },
  {
   "cell_type": "code",
   "execution_count": 7,
   "metadata": {},
   "outputs": [],
   "source": [
    "token = \"\" # Your TOKEN goes here\n",
    "url = 'http://api.tukanmx.com/v1/retrieve/'\n",
    "\n",
    "headers = {\n",
    "\"Content-Type\": \"application/json\",\n",
    "\"Authorization\": \"Token \" + token\n",
    "}"
   ]
  },
  {
   "cell_type": "markdown",
   "metadata": {},
   "source": [
    "## What can I do with TUKAN?\n",
    "\n",
    "#### Query a wide-array of indicators with a couple lines of code.\n",
    "\n",
    "For example, let's take a look at Mexican GDP in constant terms since 2010. "
   ]
  },
  {
   "cell_type": "code",
   "execution_count": 8,
   "metadata": {},
   "outputs": [
    {
     "data": {
      "text/html": [
       "<div>\n",
       "<style scoped>\n",
       "    .dataframe tbody tr th:only-of-type {\n",
       "        vertical-align: middle;\n",
       "    }\n",
       "\n",
       "    .dataframe tbody tr th {\n",
       "        vertical-align: top;\n",
       "    }\n",
       "\n",
       "    .dataframe thead th {\n",
       "        text-align: right;\n",
       "    }\n",
       "</style>\n",
       "<table border=\"1\" class=\"dataframe\">\n",
       "  <thead>\n",
       "    <tr style=\"text-align: right;\">\n",
       "      <th></th>\n",
       "      <th>date</th>\n",
       "      <th>economic_activity__ref</th>\n",
       "      <th>economic_activity</th>\n",
       "      <th>675882bced9ce54</th>\n",
       "    </tr>\n",
       "  </thead>\n",
       "  <tbody>\n",
       "    <tr>\n",
       "      <th>0</th>\n",
       "      <td>2010-01-01</td>\n",
       "      <td>dfeefc621d16d0c</td>\n",
       "      <td>Economic activity</td>\n",
       "      <td>1.437172e+13</td>\n",
       "    </tr>\n",
       "    <tr>\n",
       "      <th>1</th>\n",
       "      <td>2010-04-01</td>\n",
       "      <td>dfeefc621d16d0c</td>\n",
       "      <td>Economic activity</td>\n",
       "      <td>1.499840e+13</td>\n",
       "    </tr>\n",
       "    <tr>\n",
       "      <th>2</th>\n",
       "      <td>2010-07-01</td>\n",
       "      <td>dfeefc621d16d0c</td>\n",
       "      <td>Economic activity</td>\n",
       "      <td>1.492145e+13</td>\n",
       "    </tr>\n",
       "    <tr>\n",
       "      <th>3</th>\n",
       "      <td>2010-10-01</td>\n",
       "      <td>dfeefc621d16d0c</td>\n",
       "      <td>Economic activity</td>\n",
       "      <td>1.549961e+13</td>\n",
       "    </tr>\n",
       "    <tr>\n",
       "      <th>4</th>\n",
       "      <td>2011-01-01</td>\n",
       "      <td>dfeefc621d16d0c</td>\n",
       "      <td>Economic activity</td>\n",
       "      <td>1.490273e+13</td>\n",
       "    </tr>\n",
       "  </tbody>\n",
       "</table>\n",
       "</div>"
      ],
      "text/plain": [
       "         date economic_activity__ref  economic_activity  675882bced9ce54\n",
       "0  2010-01-01        dfeefc621d16d0c  Economic activity     1.437172e+13\n",
       "1  2010-04-01        dfeefc621d16d0c  Economic activity     1.499840e+13\n",
       "2  2010-07-01        dfeefc621d16d0c  Economic activity     1.492145e+13\n",
       "3  2010-10-01        dfeefc621d16d0c  Economic activity     1.549961e+13\n",
       "4  2011-01-01        dfeefc621d16d0c  Economic activity     1.490273e+13"
      ]
     },
     "execution_count": 8,
     "metadata": {},
     "output_type": "execute_result"
    }
   ],
   "source": [
    "### Query and plot Mexican GDP since 2010\n",
    "\n",
    "payload = {\n",
    "    \"type\": \"data_table\",\n",
    "    \"operation\": \"sum\",\n",
    "    \"language\": \"en\",\n",
    "    \"categories\": {\n",
    "        \"economic_activity\": [\n",
    "            \"dfeefc621d16d0c\"\n",
    "        ]\n",
    "    },\n",
    "    \"request\": [\n",
    "        {\n",
    "            \"table\": \"mex_inegi_gdp_national\",\n",
    "            \"variables\": [\n",
    "                \"675882bced9ce54\"\n",
    "            ]\n",
    "        }\n",
    "    ],\n",
    "    \"from\": \"2010-01-01\"\n",
    "}\n",
    "\n",
    "response = requests.post(url, headers = headers, data = json.dumps(payload))\n",
    "gdp_data = pd.DataFrame(response.json()['data'])\n",
    "gdp_data.head()\n"
   ]
  },
  {
   "cell_type": "markdown",
   "metadata": {},
   "source": [
    "And now we plot our results in a fancy chart."
   ]
  },
  {
   "cell_type": "code",
   "execution_count": 9,
   "metadata": {},
   "outputs": [
    {
     "data": {
      "text/plain": [
       "Text(0.5, 1.0, 'Mexican GDP (in MXN millions)')"
      ]
     },
     "execution_count": 9,
     "metadata": {},
     "output_type": "execute_result"
    },
    {
     "data": {
      "image/png": "[encoded data removed]",
      "text/plain": [
       "<Figure size 720x216 with 1 Axes>"
      ]
     },
     "metadata": {
      "needs_background": "light"
     },
     "output_type": "display_data"
    }
   ],
   "source": [
    "# Plot a fancy chart with the results\n",
    "#---------------------------------------------------------------\n",
    "gdp_data['date'] = pd.to_datetime(gdp_data['date'])\n",
    "\n",
    "fig = plt.figure(figsize=(10, 3))\n",
    "ax = fig.add_subplot(1, 1, 1)\n",
    "\n",
    "ax.spines[\"top\"].set_color(\"white\")\n",
    "ax.spines[\"right\"].set_color(\"white\")\n",
    "\n",
    "ax.grid(color=\"lightgrey\", lw = 0.5, zorder=1)\n",
    "\n",
    "# Format axis\n",
    "years = mdates.YearLocator()   # every year\n",
    "years_fmt = mdates.DateFormatter('%Y')\n",
    "ax.xaxis.set_major_locator(years)\n",
    "ax.xaxis.set_major_formatter(years_fmt)\n",
    "ax.yaxis.set_major_formatter(mtick.StrMethodFormatter('{x:,.0f}'))\n",
    "\n",
    "ax.plot(gdp_data['date'], gdp_data['675882bced9ce54']/1000000, color = \"#2B5AA5\", label = \"GDP in constant terms\")\n",
    "ax.legend(fancybox=True, framealpha=1, shadow=True, borderpad=1, loc = 'upper left')\n",
    "ax.set_title(\"Mexican GDP (in MXN millions)\")"
   ]
  },
  {
   "cell_type": "markdown",
   "metadata": {},
   "source": [
    "#### Merge datasets with ease\n",
    "\n",
    "For example, let's look at Mexican manufacturing GDP and the manufacturing orders indicator."
   ]
  },
  {
   "cell_type": "code",
   "execution_count": 12,
   "metadata": {},
   "outputs": [],
   "source": [
    "### Query and join Mexican Manufacturing GDP with the manufacturing orders indicator\n",
    "\n",
    "## GDP payload\n",
    "#-----------------------------------------------------------------------------\n",
    "gdp_payload = {\n",
    "    \"type\": \"data_table\",\n",
    "    \"operation\": \"yoy_growth_rel\",\n",
    "    \"language\": \"en\",\n",
    "    \"categories\": {\n",
    "        \"economic_activity\": [\n",
    "            \"faa2a8d0af8a72c\"\n",
    "        ]\n",
    "    },\n",
    "    \"request\": [\n",
    "        {\n",
    "            \"table\": \"mex_inegi_gdp_national\",\n",
    "            \"variables\": [\n",
    "                \"675882bced9ce54\"\n",
    "            ]\n",
    "        }\n",
    "    ],\n",
    "    \"from\": \"2010-01-11\"\n",
    "}\n",
    "\n",
    "response = requests.post(url, headers = headers, data = json.dumps(gdp_payload))\n",
    "gdp_data = pd.DataFrame(response.json()['data'])\n",
    "gdp_data['date'] = pd.to_datetime(gdp_data['date'])\n",
    "\n",
    "# Manufacturing Orders Indicator\n",
    "#-----------------------------------------------------------------------------\n",
    "moi_payload = {\n",
    "    \"type\": \"data_table\",\n",
    "    \"operation\": \"avg\",\n",
    "    \"term\": \"quarter\",\n",
    "    \"language\": \"en\",\n",
    "    \"categories\": {\n",
    "        \"economic_activity\": [\n",
    "            \"faa2a8d0af8a72c\"\n",
    "        ]\n",
    "    },\n",
    "    \"request\": [\n",
    "        {\n",
    "            \"table\": \"mex_inegi_emoe\",\n",
    "            \"variables\": [\n",
    "                \"07ec7d378e9f5f9\"\n",
    "            ]\n",
    "        }\n",
    "    ],\n",
    "    \"from\": \"2010-01-11\"\n",
    "}\n",
    "\n",
    "response = requests.post(url, headers = headers, data = json.dumps(moi_payload))\n",
    "moi_data = pd.DataFrame(response.json()['data'])\n",
    "moi_data['date'] = pd.to_datetime(moi_data['date'])\n"
   ]
  },
  {
   "cell_type": "markdown",
   "metadata": {},
   "source": [
    "Now that we have the data, we do a simple `merge` and plot the results."
   ]
  },
  {
   "cell_type": "code",
   "execution_count": 13,
   "metadata": {},
   "outputs": [
    {
     "data": {
      "text/html": [
       "<div>\n",
       "<style scoped>\n",
       "    .dataframe tbody tr th:only-of-type {\n",
       "        vertical-align: middle;\n",
       "    }\n",
       "\n",
       "    .dataframe tbody tr th {\n",
       "        vertical-align: top;\n",
       "    }\n",
       "\n",
       "    .dataframe thead th {\n",
       "        text-align: right;\n",
       "    }\n",
       "</style>\n",
       "<table border=\"1\" class=\"dataframe\">\n",
       "  <thead>\n",
       "    <tr style=\"text-align: right;\">\n",
       "      <th></th>\n",
       "      <th>date</th>\n",
       "      <th>economic_activity__ref</th>\n",
       "      <th>economic_activity</th>\n",
       "      <th>675882bced9ce54</th>\n",
       "      <th>07ec7d378e9f5f9</th>\n",
       "    </tr>\n",
       "  </thead>\n",
       "  <tbody>\n",
       "    <tr>\n",
       "      <th>0</th>\n",
       "      <td>2010-01-01</td>\n",
       "      <td>faa2a8d0af8a72c</td>\n",
       "      <td>Manufacturing</td>\n",
       "      <td>0.083504</td>\n",
       "      <td>53.037667</td>\n",
       "    </tr>\n",
       "    <tr>\n",
       "      <th>1</th>\n",
       "      <td>2010-04-01</td>\n",
       "      <td>faa2a8d0af8a72c</td>\n",
       "      <td>Manufacturing</td>\n",
       "      <td>0.134897</td>\n",
       "      <td>54.103333</td>\n",
       "    </tr>\n",
       "    <tr>\n",
       "      <th>2</th>\n",
       "      <td>2010-07-01</td>\n",
       "      <td>faa2a8d0af8a72c</td>\n",
       "      <td>Manufacturing</td>\n",
       "      <td>0.089120</td>\n",
       "      <td>52.734000</td>\n",
       "    </tr>\n",
       "    <tr>\n",
       "      <th>3</th>\n",
       "      <td>2010-10-01</td>\n",
       "      <td>faa2a8d0af8a72c</td>\n",
       "      <td>Manufacturing</td>\n",
       "      <td>0.044953</td>\n",
       "      <td>52.209333</td>\n",
       "    </tr>\n",
       "    <tr>\n",
       "      <th>4</th>\n",
       "      <td>2011-01-01</td>\n",
       "      <td>faa2a8d0af8a72c</td>\n",
       "      <td>Manufacturing</td>\n",
       "      <td>0.046967</td>\n",
       "      <td>54.035667</td>\n",
       "    </tr>\n",
       "  </tbody>\n",
       "</table>\n",
       "</div>"
      ],
      "text/plain": [
       "        date economic_activity__ref economic_activity  675882bced9ce54  \\\n",
       "0 2010-01-01        faa2a8d0af8a72c     Manufacturing         0.083504   \n",
       "1 2010-04-01        faa2a8d0af8a72c     Manufacturing         0.134897   \n",
       "2 2010-07-01        faa2a8d0af8a72c     Manufacturing         0.089120   \n",
       "3 2010-10-01        faa2a8d0af8a72c     Manufacturing         0.044953   \n",
       "4 2011-01-01        faa2a8d0af8a72c     Manufacturing         0.046967   \n",
       "\n",
       "   07ec7d378e9f5f9  \n",
       "0        53.037667  \n",
       "1        54.103333  \n",
       "2        52.734000  \n",
       "3        52.209333  \n",
       "4        54.035667  "
      ]
     },
     "execution_count": 13,
     "metadata": {},
     "output_type": "execute_result"
    }
   ],
   "source": [
    "merged_df = pd.merge(gdp_data, moi_data)\n",
    "merged_df.head()"
   ]
  },
  {
   "cell_type": "code",
   "execution_count": 14,
   "metadata": {},
   "outputs": [
    {
     "data": {
      "text/plain": [
       "(40.0, 60.0)"
      ]
     },
     "execution_count": 14,
     "metadata": {},
     "output_type": "execute_result"
    },
    {
     "data": {
      "image/png": "[encoded data removed]",
      "text/plain": [
       "<Figure size 720x432 with 2 Axes>"
      ]
     },
     "metadata": {
      "needs_background": "light"
     },
     "output_type": "display_data"
    }
   ],
   "source": [
    "# Plot a fancy chart with the results\n",
    "#---------------------------------------------------------------\n",
    "fig = plt.figure(figsize=(10, 6))\n",
    "ax = fig.add_subplot(2, 1, 1)\n",
    "ax_2 = fig.add_subplot(2, 1, 2)\n",
    "\n",
    "for axs in fig.get_axes():\n",
    "    axs.spines[\"top\"].set_color(\"white\")\n",
    "    axs.spines[\"right\"].set_color(\"white\")\n",
    "\n",
    "    axs.grid(color=\"lightgrey\", lw = 0.5, zorder=1)\n",
    "\n",
    "    # Format axis\n",
    "    years = mdates.YearLocator()   # every year\n",
    "    years_fmt = mdates.DateFormatter('%Y')\n",
    "    axs.xaxis.set_major_locator(years)\n",
    "    axs.xaxis.set_major_formatter(years_fmt)\n",
    "\n",
    "ax.plot(merged_df['date'], merged_df['675882bced9ce54'], color = \"#2B5AA5\", label = \"Manufacturing GDP YoY growth\")\n",
    "ax.legend(fancybox=True, framealpha=1, shadow=True, borderpad=1, loc = \"lower left\")\n",
    "ax.yaxis.set_major_formatter(mtick.StrMethodFormatter('{x:,.0%}'))\n",
    "ax.hlines(0, xmin = merged_df['date'].min(), xmax = merged_df['date'].max(), ls='--', color = 'black', zorder = - 1)\n",
    "ax.set_ylim(-.40,.40)\n",
    "ax.set_title(\"Manufacturing GDP YoY Growth vs. Manufacturing Orders Indicator\")\n",
    "\n",
    "ax_2.plot(merged_df['date'], merged_df['07ec7d378e9f5f9'], color = \"#2dfd98\", label = \"Manufacturing Orders Indicator\")\n",
    "ax_2.legend(fancybox=True, framealpha=1, shadow=True, borderpad=1, loc = \"lower left\")\n",
    "ax_2.hlines(50, xmin = merged_df['date'].min(), xmax = merged_df['date'].max(), ls='--', color = 'black', zorder = - 1)\n",
    "ax_2.set_ylim(40,60)\n"
   ]
  },
  {
   "cell_type": "markdown",
   "metadata": {},
   "source": [
    "## Next Section\n",
    "\n",
    "In the [following notebook](01_tukan_model.ipynb), we'll showcase how to get you set-up and the basics behind our data model and catalog."
   ]
  }
 ],
 "metadata": {
  "interpreter": {
   "hash": "7be6bdb886a7b890801663bd167fcf026efbb5eb025fc135c8d5d7b94500f0ab"
  },
  "kernelspec": {
   "display_name": "Python 3.8.3 64-bit ('notebook_tutorial_env': venv)",
   "name": "python3"
  },
  "language_info": {
   "codemirror_mode": {
    "name": "ipython",
    "version": 3
   },
   "file_extension": ".py",
   "mimetype": "text/x-python",
   "name": "python",
   "nbconvert_exporter": "python",
   "pygments_lexer": "ipython3",
   "version": "3.8.3"
  }
 },
 "nbformat": 4,
 "nbformat_minor": 2
}
